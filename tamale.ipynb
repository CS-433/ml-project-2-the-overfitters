{
 "cells": [
  {
   "cell_type": "markdown",
   "metadata": {},
   "source": [
    "# Road Density Analysis in Tamale, Ghana\n",
    "\n",
    "This notebook initially focuses on performing road density analysis using OpenStreetMap (OSM) data for Tamale, Ghana. Subsequently, it will incorporate satellite image data to enhance the analysis. This methodology is designed for potential scaling to larger areas."
   ]
  },
  {
   "cell_type": "markdown",
   "metadata": {},
   "source": [
    "## Acquiring OpenStreetMap Data for Tamale\n",
    "\n",
    "We use OpenStreetMap's pbf format database dumps, available at [Planet OpenStreetMap](https://planet.openstreetmap.org/pbf/), for our data source. To isolate data specific to Tamale, we use the [Osmium Tool](https://osmcode.org/osmium-tool/). A defined geographic rectangle covering Tamale has been crafted using [geojson.io](https://geojson.io/#map=10.61/9.4417/-0.8319) and stored in `data/tamale.geojson`. Our analysis will be conducted within this designated area.\n",
    "\n",
    "The process involves several step:\n",
    "\n",
    "1. **Creating a Data Extract with Osmium**: Using Osmium's capabilities ([documentation](https://osmcode.org/osmium-tool/manual.html#creating-geographic-extracts)), we generate a specific extract for Tamale:\n",
    "    ```\n",
    "    osmium extract -p tamale.geojson planet-[date].osm.pbf -o tamale-[date].osm.pbf\n",
    "    ```\n",
    "1. **Filtering Road Data**: Next, we refine the dataset to include only road information ([documentation](https://osmcode.org/osmium-tool/manual.html#filtering-by-tags)):\n",
    "    ```\n",
    "    osmium tags-filter tamale-[date].osm.pbf w/highway -o tamale-[date]-roads.osm.pbf\n",
    "    ```\n",
    "1. **Exporting to GeoJSON**: The final step involves converting the pbf file into a GeoJSON format, making it compatible with the geopandas library in Python:\n",
    "    ```\n",
    "    osmium export tamale-[date]-roads.osm.pbf -o tamale-[date]-roads.geojson\n",
    "    ```\n",
    "\n",
    "With these steps completed, we're set to proceed with the road density analysis using Python."
   ]
  },
  {
   "cell_type": "code",
   "execution_count": 1,
   "metadata": {},
   "outputs": [],
   "source": [
    "import geopandas as gpd\n",
    "from shapely.geometry import Point\n",
    "import matplotlib.pyplot as plt"
   ]
  },
  {
   "cell_type": "code",
   "execution_count": 2,
   "metadata": {},
   "outputs": [
    {
     "data": {
      "text/plain": [
       "0    POINT (-0.84197 9.42584)\n",
       "1    POINT (-0.84772 9.39535)\n",
       "2    POINT (-0.84765 9.39528)\n",
       "3    POINT (-0.84821 9.39530)\n",
       "4    POINT (-0.84823 9.39480)\n",
       "Name: geometry, dtype: geometry"
      ]
     },
     "execution_count": 2,
     "metadata": {},
     "output_type": "execute_result"
    }
   ],
   "source": [
    "tamale_roads_2023 = gpd.read_file('data/tamale-231113-roads.geojson')\n",
    "tamale_roads_2020 = gpd.read_file('data/tamale-200831-roads.geojson')\n",
    "tamale_roads_2023.geometry.head()"
   ]
  },
  {
   "cell_type": "code",
   "execution_count": 3,
   "metadata": {},
   "outputs": [
    {
     "data": {
      "text/plain": [
       "0    POINT (-0.84197 9.42584)\n",
       "1    POINT (-0.84233 9.40590)\n",
       "2    POINT (-0.84246 9.40587)\n",
       "3    POINT (-0.84772 9.39535)\n",
       "4    POINT (-0.84765 9.39528)\n",
       "Name: geometry, dtype: geometry"
      ]
     },
     "execution_count": 3,
     "metadata": {},
     "output_type": "execute_result"
    }
   ],
   "source": [
    "tamale_roads_2020.geometry.head()"
   ]
  },
  {
   "cell_type": "code",
   "execution_count": 4,
   "metadata": {},
   "outputs": [
    {
     "data": {
      "text/plain": [
       "114    LINESTRING (-0.84708 9.43068, -0.84615 9.43071...\n",
       "115    LINESTRING (-0.84694 9.43361, -0.84684 9.43349...\n",
       "116    LINESTRING (-0.83902 9.43728, -0.83902 9.43679...\n",
       "117    LINESTRING (-0.84312 9.43426, -0.84225 9.43429...\n",
       "118    LINESTRING (-0.84664 9.47548, -0.84662 9.47631...\n",
       "Name: geometry, dtype: geometry"
      ]
     },
     "execution_count": 4,
     "metadata": {},
     "output_type": "execute_result"
    }
   ],
   "source": [
    "# As we can see, the data still contains points. We are only interested in the roads, so we will filter the data to only contain lines.\n",
    "tamale_roads_2023 = tamale_roads_2023[tamale_roads_2023.geometry.type == 'LineString']\n",
    "tamale_roads_2020 = tamale_roads_2020[tamale_roads_2020.geometry.type == 'LineString']\n",
    "tamale_roads_2023.geometry.head()"
   ]
  },
  {
   "cell_type": "code",
   "execution_count": 5,
   "metadata": {},
   "outputs": [
    {
     "data": {
      "text/plain": [
       "75    LINESTRING (-0.84708 9.43068, -0.84615 9.43071...\n",
       "76    LINESTRING (-0.84694 9.43361, -0.84684 9.43349...\n",
       "77    LINESTRING (-0.83902 9.43728, -0.83902 9.43679...\n",
       "78    LINESTRING (-0.84312 9.43426, -0.84225 9.43429...\n",
       "79    LINESTRING (-0.84664 9.47548, -0.84660 9.47637...\n",
       "Name: geometry, dtype: geometry"
      ]
     },
     "execution_count": 5,
     "metadata": {},
     "output_type": "execute_result"
    }
   ],
   "source": [
    "tamale_roads_2020.geometry.head()"
   ]
  },
  {
   "cell_type": "code",
   "execution_count": null,
   "metadata": {},
   "outputs": [],
   "source": [
    "# We can now plot the roads\n",
    "tamale_roads_2023.plot()\n",
    "plt.show()"
   ]
  },
  {
   "cell_type": "code",
   "execution_count": null,
   "metadata": {},
   "outputs": [],
   "source": [
    "tamale_roads_2020.plot()\n",
    "plt.show()"
   ]
  },
  {
   "cell_type": "code",
   "execution_count": null,
   "metadata": {},
   "outputs": [],
   "source": [
    "# We reproject the data to the World Mercator projection (EPSG:3395) to be able to calculate distances in meters\n",
    "tamale_roads_2023 = tamale_roads_2023.to_crs(epsg=3395)\n",
    "tamale_roads_2020 = tamale_roads_2020.to_crs(epsg=3395)"
   ]
  },
  {
   "cell_type": "code",
   "execution_count": null,
   "metadata": {},
   "outputs": [],
   "source": [
    "# We compute the total length of the roads\n",
    "total_length_2023 = 0\n",
    "total_length_2020 = 0\n",
    "\n",
    "for line in tamale_roads_2023.geometry:\n",
    "    total_length_2023 += line.length\n",
    "\n",
    "for line in tamale_roads_2020.geometry:\n",
    "    total_length_2020 += line.length\n",
    "\n",
    "print(f\"Total length of all roads in 2023: {total_length_2023 / 1000:.2f}km\")\n",
    "print(f\"Total length of all roads in 2018: {total_length_2020 / 1000:.2f}km\")"
   ]
  },
  {
   "cell_type": "code",
   "execution_count": null,
   "metadata": {},
   "outputs": [],
   "source": [
    "# We compute the expansion of the road network between 2020 and 2023\n",
    "expansion = (total_length_2023 - total_length_2020) / total_length_2020 * 100\n",
    "print(f\"Expansion of the road network: {expansion:.2f}%\")"
   ]
  },
  {
   "cell_type": "markdown",
   "metadata": {},
   "source": [
    "# Acquiring landsat data for Tamale\n",
    "Data can be downloaded at from https://earthexplorer.usgs.gov, selecting the area of interest; in the search criteria can be also useful to set 'cloud cover' to the minimum.\n",
    "Then we select the following datasets: Landsat >> Landsat Collection 2 Level-2 >> Landsat 8-9 OLI/TIRS C2 L2, then we download all the files in Level-2 Surface Reflectance Bands.\n",
    "These files have to be saved in a repository named 'tamale_landsat' and the TIF file for the i-th bandwidth  has to be named SR_B{i}.TIF (e.g. SR_B1.TIF)\n",
    "\n",
    "These files contain files .TIF regarding the reflectance of the surface for 7 different bandwidth, detailed informations are found in https://developers.google.com/earth-engine/datasets/catalog/LANDSAT_LC08_C02_T1_L2.\n",
    "\n",
    "At the end of the data processing we obtain a 3D tensor called 'data_fin' containing the values of pixels for the 7 bandwidth, and a one-hot matrix called 'osm_mask' showing in which pixels there are roads"
   ]
  },
  {
   "cell_type": "code",
   "execution_count": null,
   "metadata": {},
   "outputs": [],
   "source": [
    "import rasterio\n",
    "from rasterio.warp import calculate_default_transform, reproject, Resampling\n",
    "from rasterio.mask import geometry_mask\n",
    "import numpy as np"
   ]
  },
  {
   "cell_type": "code",
   "execution_count": null,
   "metadata": {},
   "outputs": [],
   "source": [
    "file_path = \"tamale_landsat/SR_B1.tif\"\n",
    "dataset = rasterio.open(file_path)\n",
    "data = dataset.read(1)"
   ]
  },
  {
   "cell_type": "code",
   "execution_count": null,
   "metadata": {},
   "outputs": [],
   "source": [
    "# Here we project the files in the ESPC:3395, the same of OSM data\n",
    "\n",
    "def projecting(input_file, output_file):\n",
    "    dst_crs = 'EPSG:3395'\n",
    "\n",
    "    # Open the input dataset\n",
    "    with rasterio.open(input_file) as src:\n",
    "        # Get the transformation parameters and dimensions for the output file\n",
    "        transform, width, height = calculate_default_transform(\n",
    "            src.crs, dst_crs, src.width, src.height, *src.bounds\n",
    "        )\n",
    "    \n",
    "        # Create the output dataset\n",
    "        kwargs = src.meta.copy()\n",
    "        kwargs.update({\n",
    "            'crs': dst_crs,\n",
    "            'transform': transform,\n",
    "            'width': width,\n",
    "            'height': height\n",
    "        })\n",
    "\n",
    "        with rasterio.open(output_file, 'w', **kwargs) as dst:\n",
    "            # Perform the reprojection\n",
    "            reproject(\n",
    "                source=rasterio.band(src, 1),\n",
    "                destination=rasterio.band(dst, 1),\n",
    "                src_transform=src.transform,\n",
    "                src_crs=src.crs,\n",
    "                dst_transform=transform,\n",
    "                dst_crs=dst_crs,\n",
    "                resampling=Resampling.nearest\n",
    "            )"
   ]
  },
  {
   "cell_type": "code",
   "execution_count": null,
   "metadata": {},
   "outputs": [],
   "source": [
    "for i in range(1,8):\n",
    "    input_file = f'tamale_landsat/SR_B{i}.TIF'\n",
    "    output_file = f'tamale_landsat/SR_B{i}_reprojected.TIF'\n",
    "    projecting(input_file, output_file)"
   ]
  },
  {
   "cell_type": "code",
   "execution_count": null,
   "metadata": {},
   "outputs": [],
   "source": [
    "# We collect all the infos in a 3D tensor\n",
    "\n",
    "dataset_proj = rasterio.open('tamale_landsat/SR_B1_reprojected.TIF')\n",
    "data_proj = dataset_proj.read(1)\n",
    "data_fin = np.copy(data_proj)\n",
    "data_fin = data_fin[:,:,np.newaxis]\n",
    "for i in range(2,8):\n",
    "    file_path = f\"tamale_landsat/SR_B{i}_reprojected.TIF\"\n",
    "    with rasterio.open(file_path) as src:\n",
    "        data_ = src.read(1)\n",
    "        data_ = data_[:,:,np.newaxis]\n",
    "        data_fin = np.append(data_fin, data_, axis=-1)\n",
    "print(data_fin.shape)"
   ]
  },
  {
   "cell_type": "code",
   "execution_count": null,
   "metadata": {},
   "outputs": [],
   "source": [
    "# For visual purposes we plot the image reconstructed from landsat data\n",
    "with rasterio.open(\"tamale_landsat/SR_B4_reprojected.TIF\") as src_red, \\\n",
    "     rasterio.open(\"tamale_landsat/SR_B3_reprojected.TIF\") as src_green, \\\n",
    "     rasterio.open(\"tamale_landsat/SR_B2_reprojected.TIF\") as src_blue:\n",
    "\n",
    "    red_band = src_red.read(1)\n",
    "    green_band = src_green.read(1)\n",
    "    blue_band = src_blue.read(1)\n",
    "\n",
    "    # Normalize to [0, 1]\n",
    "    red_band = red_band / np.max(red_band)\n",
    "    green_band = green_band / np.max(green_band)\n",
    "    blue_band = blue_band / np.max(blue_band)\n",
    "\n",
    "    # Stack the bands to create an RGB image\n",
    "    rgb_image = np.stack([red_band, green_band, blue_band], axis=-1)\n",
    "\n",
    "    plt.imshow(rgb_image)\n",
    "    plt.show()"
   ]
  },
  {
   "cell_type": "code",
   "execution_count": null,
   "metadata": {},
   "outputs": [],
   "source": [
    "# Again for visual purposes we show which pixels have been removed, and we calcuate the mask (pixels where there roads are)\n",
    "\n",
    "# Open Landsat data\n",
    "with rasterio.open(\"tamale_landsat/SR_B1_reprojected.TIF\") as src:\n",
    "    dataset_proj = src.read(1)\n",
    "    transform = src.transform\n",
    "\n",
    "# Rasterize OSM road data\n",
    "osm_mask = geometry_mask(tamale_roads_2023.geometry, out_shape=dataset_proj.shape, transform=transform, invert=True)\n",
    "\n",
    "# Apply the OSM road mask to Landsat data\n",
    "roads_masked = np.ma.masked_array(dataset_proj, mask=osm_mask)\n",
    "\n",
    "plt.imshow(roads_masked, cmap='gray')\n",
    "plt.show()                                         \n",
    "                                             "
   ]
  },
  {
   "cell_type": "code",
   "execution_count": null,
   "metadata": {},
   "outputs": [],
   "source": [
    "print(np.sum(osm_mask==1))"
   ]
  },
  {
   "cell_type": "code",
   "execution_count": null,
   "metadata": {},
   "outputs": [],
   "source": [
    "# Some pixels in the 'black area' are indicated as street,\n",
    "# however Landsat data don't have any information about these pixels\n",
    "# so we don't want them to be indicated as if there is a road\n",
    "\n",
    "osm_mask[np.sum(data_fin,axis=-1)==0]=0"
   ]
  },
  {
   "cell_type": "code",
   "execution_count": null,
   "metadata": {},
   "outputs": [],
   "source": [
    "# Finally we plot the final result\n",
    "roads_masked_ = np.ma.masked_array(dataset_proj, mask=osm_mask)\n",
    "\n",
    "# Optionally, visualize the result\n",
    "plt.imshow(roads_masked_, cmap='gray')\n",
    "plt.show()  "
   ]
  },
  {
   "cell_type": "code",
   "execution_count": null,
   "metadata": {},
   "outputs": [],
   "source": [
    "print(np.sum(osm_mask==1))"
   ]
  }
 ],
 "metadata": {
  "kernelspec": {
   "display_name": "Python 3 (ipykernel)",
   "language": "python",
   "name": "python3"
  },
  "language_info": {
   "codemirror_mode": {
    "name": "ipython",
    "version": 3
   },
   "file_extension": ".py",
   "mimetype": "text/x-python",
   "name": "python",
   "nbconvert_exporter": "python",
   "pygments_lexer": "ipython3",
   "version": "3.10.9"
  }
 },
 "nbformat": 4,
 "nbformat_minor": 2
}
