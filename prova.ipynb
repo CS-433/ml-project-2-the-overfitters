{
 "cells": [
  {
   "cell_type": "code",
   "execution_count": null,
   "id": "a53b8b16",
   "metadata": {},
   "outputs": [],
   "source": [
    "red_path = \"tamale_landsat/SR_B4_reprojected.tif\"\n",
    "green_path = \"tamale_landsat/SR_B3_reprojected.tif\"\n",
    "blue_path = \"tamale_landsat/SR_B2_reprojected.tif\"\n",
    "\n",
    "# Read the data from each band\n",
    "with rasterio.open(red_path) as red_src:\n",
    "    red_data = red_src.read(1)\n",
    "\n",
    "with rasterio.open(green_path) as green_src:\n",
    "    green_data = green_src.read(1)\n",
    "    \n",
    "with rasterio.open(blue_path) as blue_src:\n",
    "    blue_data = blue_src.read(1)\n",
    "    \n",
    "# Stack the bands to create an RGB image\n",
    "rgb_image = np.stack([red_data, green_data, blue_data], axis=-1)\n",
    "rgb_mask=np.tile(road_mask, (1, 1,3))\n",
    "# Rescale or normalize pixel values to the 0-1 range\n",
    "rgb_image = (rgb_image / np.max(rgb_image)).astype(np.float32)\n",
    "rgb_image_masked = np.ma.masked_array(rgb_image[:,:,:], rgb_mask)\n",
    "\n",
    "print(rgb_mask.shape, rgb_image.shape)\n",
    "print(rgb_image_masked[5143,4438,:])\n",
    "print(rgb_mask[5143,4438,:])\n",
    "# Plot the RGB image\n",
    "plt.imshow(rgb_image_masked)\n",
    "plt.show()"
   ]
  }
 ],
 "metadata": {
  "kernelspec": {
   "display_name": "Python 3 (ipykernel)",
   "language": "python",
   "name": "python3"
  },
  "language_info": {
   "codemirror_mode": {
    "name": "ipython",
    "version": 3
   },
   "file_extension": ".py",
   "mimetype": "text/x-python",
   "name": "python",
   "nbconvert_exporter": "python",
   "pygments_lexer": "ipython3",
   "version": "3.10.9"
  }
 },
 "nbformat": 4,
 "nbformat_minor": 5
}
